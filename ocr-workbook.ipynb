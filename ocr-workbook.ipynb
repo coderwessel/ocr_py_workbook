{
 "cells": [
  {
   "cell_type": "markdown",
   "metadata": {},
   "source": [
    "# OCR Notebook\n",
    "This is a jupyter notebook with code to do OCR on pdf and image files\n",
    "\n",
    "## Requirements\n",
    "1. Download and install tessaract-ocr (https://sourceforge.net/projects/tesseract-ocr.mirror/)\n",
    "2. create .env file with references to the tesseract_ocr path and to some sample files\n",
    "```\n",
    "TESSARECT_OCR_PATH=C:\\ ... \\tesseract.exe\n",
    "IMAGE_PATH_BAD_RECEIPT=C:\\...image_path_bad_receipt.jpg\n",
    "IMAGE_PATH_GOOD_RECEIPT=C:\\...image_path_good_receipt.jpg\n",
    "IMAGE_PATH_EXCEL_TABLE=C:\\..image_path_table.png\n",
    "```"
   ]
  },
  {
   "cell_type": "markdown",
   "metadata": {},
   "source": [
    "# Code \n",
    "## Setup environment and OCR function"
   ]
  },
  {
   "cell_type": "code",
   "execution_count": null,
   "metadata": {},
   "outputs": [],
   "source": [
    "from PIL import Image #pillow\n",
    "import cv2 as cv2 #opencv-python\n",
    "from matplotlib import pyplot as plt\n",
    "import pytesseract as pyt\n",
    "from dotenv import load_dotenv\n",
    "import os\n",
    "load_dotenv()\n",
    "\n",
    "image_path_bad_receipt = os.getenv('image_path_bad_receipt')\n",
    "image_path_bad_receipt = os.getenv('IMAGE_PATH_BAD_RECEIPT')\n",
    "image_path_good_receipt = os.getenv('IMAGE_PATH_GOOD_RECEIPT')\n",
    "image_path_excel_table = os.getenv('IMAGE_PATH_EXCEL_TABLE')\n",
    "\n",
    "# Set the path to the Tesseract executable:\n",
    "tessarect_ocr_path = os.getenv('TESSARECT_OCR_PATH')\n",
    "pyt.pytesseract.tesseract_cmd = tessarect_ocr_path\n",
    "\n"
   ]
  },
  {
   "cell_type": "code",
   "execution_count": null,
   "metadata": {},
   "outputs": [],
   "source": [
    "from tkinter import Tk, filedialog\n",
    "def get_image_file_dialog():\n",
    "    root=Tk()\n",
    "    root.focus_force()\n",
    "    FT = [('image files', ('.png', '.jpg'))]\n",
    "    ttl = 'Select File'\n",
    "    file_path=filedialog.askopenfilename(parent=root, title=ttl, filetypes=FT)\n",
    "    root.withdraw()\n",
    "    return file_path"
   ]
  },
  {
   "cell_type": "code",
   "execution_count": null,
   "metadata": {},
   "outputs": [],
   "source": [
    "def image_to_text(image_path = None, \n",
    "                  lang = 'eng', \n",
    "                  config = '', \n",
    "                  preprocessing_method = None):\n",
    "    if image_path == None:\n",
    "        image_path=get_image_file_dialog()\n",
    "        \n",
    "    if preprocessing_method == None:\n",
    "        img = Image.open(image_path)\n",
    "    else:\n",
    "        img = preprocess_image(image_path, preprocessing_method)\n",
    "    \n",
    "    #add --psm 6 to config\n",
    "    config=config+' --psm 6'\n",
    "    # Use Tesseract to do OCR on the image\n",
    "    text = pyt.image_to_string(img, lang=lang, config=config)\n",
    "\n",
    "    return text\n",
    "\n",
    "\n"
   ]
  },
  {
   "cell_type": "markdown",
   "metadata": {},
   "source": [
    "## preprocess image"
   ]
  },
  {
   "cell_type": "code",
   "execution_count": null,
   "metadata": {},
   "outputs": [],
   "source": [
    "def preprocess_image(image_path, preprocessing_method):\n",
    "    if preprocessing_method==\"default\": \n",
    "        # Grayscale, Gaussian blur, Otsu's threshold\n",
    "        image = cv2.imread(image_path)\n",
    "        big_image = cv2.resize(image, dsize=(0,0), fx=3, fy=3)\n",
    "        gray = cv2.cvtColor(big_image, cv2.COLOR_BGR2GRAY)\n",
    "        #blur = cv2.GaussianBlur(gray, (3,3), 0)\n",
    "        blur = cv2.bilateralFilter(gray,10,10,10)\n",
    "        thresh = cv2.threshold(blur, 0, 255, cv2.THRESH_BINARY_INV + cv2.THRESH_OTSU)[1]\n",
    "\n",
    "        # Morph open to remove noise and invert image\n",
    "        kernel = cv2.getStructuringElement(cv2.MORPH_RECT, (3,3))\n",
    "        opening = cv2.morphologyEx(thresh, cv2.MORPH_OPEN, kernel, iterations=1)\n",
    "        invert = 255 - opening\n",
    "\n",
    "        #cv2.imshow('thresh', thresh)\n",
    "        #cv2.imshow('opening', opening)\n",
    "        #cv2.imshow('invert', invert)\n",
    "        plt.imshow(image)\n",
    "        plt.xticks([]), plt.yticks([])  # Hides the graph ticks and x / y axis\n",
    "        plt.show()\n",
    "        plt.imshow(invert)\n",
    "        plt.xticks([]), plt.yticks([])  # Hides the graph ticks and x / y axis\n",
    "        plt.show()\n",
    "        #cv2.waitKey()\n",
    "        return(invert)\n",
    "    else: \n",
    "        raise ValueError(f\"preprocessing method not defined: {preprocessing_method}\")\n",
    "\n"
   ]
  },
  {
   "cell_type": "markdown",
   "metadata": {},
   "source": [
    "## Use the OCR function"
   ]
  },
  {
   "cell_type": "code",
   "execution_count": null,
   "metadata": {},
   "outputs": [],
   "source": [
    "# set image path from environment var\n",
    "image_path=image_path_excel_table\n",
    "# Or omit image path to start a file dialog\n",
    "result_text = image_to_text(image_path, \n",
    "                            config=r'tessedit_char_whitelist=\"0123456789\"',\n",
    "                            preprocessing_method='default')\n",
    "print(result_text)\n",
    "\n"
   ]
  }
 ],
 "metadata": {
  "kernelspec": {
   "display_name": ".venv",
   "language": "python",
   "name": "python3"
  },
  "language_info": {
   "codemirror_mode": {
    "name": "ipython",
    "version": 3
   },
   "file_extension": ".py",
   "mimetype": "text/x-python",
   "name": "python",
   "nbconvert_exporter": "python",
   "pygments_lexer": "ipython3",
   "version": "3.10.1"
  }
 },
 "nbformat": 4,
 "nbformat_minor": 2
}
