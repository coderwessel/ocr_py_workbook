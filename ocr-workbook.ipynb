{
 "cells": [
  {
   "cell_type": "markdown",
   "metadata": {},
   "source": [
    "# OCR Notebook\n",
    "This is a jupyter notebook with code to do OCR on pdf and image files\n",
    "\n",
    "# Requirements\n",
    "1. Download and install tessaract-ocr and note the path (#TODO: source)\n",
    "2. create .env file with references to the tesseract_ocr path and to some sample files\n",
    "```\n",
    "TESSARECT_OCR_PATH=C:\\ ... \\tesseract.exe\n",
    "IMAGE_PATH_BAD_RECEIPT=C:\\...image_path_bad_receipt.jpg\n",
    "IMAGE_PATH_GOOD_RECEIPT=C:\\...image_path_good_receipt.jpg\n",
    "IMAGE_PATH_EXCEL_TABLE=C:\\..image_path_table.png\n",
    "```"
   ]
  },
  {
   "cell_type": "code",
   "execution_count": null,
   "metadata": {},
   "outputs": [],
   "source": [
    "from PIL import Image #pillow\n",
    "import cv2 as cv2 #opencv-python\n",
    "import pytesseract as pyt\n",
    "from dotenv import load_dotenv\n",
    "import os\n",
    "load_dotenv()\n",
    "\n",
    "image_path_bad_receipt = os.getenv('image_path_bad_receipt')\n",
    "image_path_bad_receipt = os.getenv('IMAGE_PATH_BAD_RECEIPT')\n",
    "image_path_good_receipt = os.getenv('IMAGE_PATH_GOOD_RECEIPT')\n",
    "image_path_excel_table = os.getenv('IMAGE_PATH_EXCEL_TABLE')\n",
    "\n",
    "# Set the path to the Tesseract executable:\n",
    "tessarect_ocr_path = os.getenv('TESSARECT_OCR_PATH')\n",
    "pyt.pytesseract.tesseract_cmd = tessarect_ocr_path\n",
    "\n"
   ]
  },
  {
   "cell_type": "code",
   "execution_count": null,
   "metadata": {},
   "outputs": [],
   "source": [
    "from tkinter import Tk, filedialog\n",
    "def get_image_file_dialog():\n",
    "    root=Tk()\n",
    "    root.focus_force()\n",
    "    FT = [('image files', ('.png', '.jpg'))]\n",
    "    ttl = 'Select File'\n",
    "    file_path=filedialog.askopenfilename(parent=root, title=ttl, filetypes=FT)\n",
    "    root.withdraw()\n",
    "    return file_path"
   ]
  },
  {
   "cell_type": "code",
   "execution_count": null,
   "metadata": {},
   "outputs": [],
   "source": [
    "def image_to_text(image_path, lang='eng', config='', preprocessing_method=None):\n",
    "    # Open the image file\n",
    "    if preprocessing_method != None:\n",
    "        img=preprocess_image(image_path, preprocessing_method)\n",
    "    else:\n",
    "        img = Image.open(image_path)\n",
    "    \n",
    "    # Use Tesseract to do OCR on the image\n",
    "    config=config+' --psm 6'\n",
    "    text = pyt.image_to_string(img, lang=lang, config=config)\n",
    "\n",
    "    return text\n",
    "\n",
    "\n",
    "def preprocess_image(image_path, preprocessing_method):\n",
    "    if preprocessing_method==\"default\": \n",
    "        # Grayscale, Gaussian blur, Otsu's threshold\n",
    "        image = cv2.imread(image_path)\n",
    "        gray = cv2.cvtColor(image, cv2.COLOR_BGR2GRAY)\n",
    "        blur = cv2.GaussianBlur(gray, (3,3), 0)\n",
    "        thresh = cv2.threshold(blur, 0, 255, cv2.THRESH_BINARY_INV + cv2.THRESH_OTSU)[1]\n",
    "\n",
    "        # Morph open to remove noise and invert image\n",
    "        kernel = cv2.getStructuringElement(cv2.MORPH_RECT, (3,3))\n",
    "        opening = cv2.morphologyEx(thresh, cv2.MORPH_OPEN, kernel, iterations=1)\n",
    "        invert = 255 - opening\n",
    "\n",
    "        cv2.imshow('thresh', thresh)\n",
    "        cv2.imshow('opening', opening)\n",
    "        cv2.imshow('invert', invert)\n",
    "        #cv2.waitKey()\n",
    "        return(invert)\n",
    "    else: \n",
    "        raise ValueError(f\"preprocessing method not defined: {preprocessing_method}\")\n",
    "        \n",
    "\n",
    "\n",
    "\n",
    "\n"
   ]
  },
  {
   "cell_type": "markdown",
   "metadata": {},
   "source": [
    "call the function"
   ]
  },
  {
   "cell_type": "code",
   "execution_count": null,
   "metadata": {},
   "outputs": [],
   "source": [
    "\n",
    "# Replace 'path/to/your/image.png' with the actual path to your image file\n",
    "\n",
    "#image_path=get_image_file_dialog()\n",
    "image_path=image_path_bad_receipt\n",
    "print(f\"performing ocr on {image_path}\\n..\\n\\n\")\n",
    "\n",
    "result_text = image_to_text(image_path, config=r'tessedit_char_whitelist=\"0123456789\"', preprocessing_method='default')\n",
    "print(result_text)\n",
    "\n"
   ]
  }
 ],
 "metadata": {
  "kernelspec": {
   "display_name": ".venv",
   "language": "python",
   "name": "python3"
  },
  "language_info": {
   "codemirror_mode": {
    "name": "ipython",
    "version": 3
   },
   "file_extension": ".py",
   "mimetype": "text/x-python",
   "name": "python",
   "nbconvert_exporter": "python",
   "pygments_lexer": "ipython3",
   "version": "3.10.1"
  }
 },
 "nbformat": 4,
 "nbformat_minor": 2
}
